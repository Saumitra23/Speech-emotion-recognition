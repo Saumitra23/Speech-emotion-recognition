{
 "cells": [
  {
   "cell_type": "markdown",
   "metadata": {},
   "source": [
    "<font size = +4>\n",
    "    Imorting Libraries"
   ]
  },
  {
   "cell_type": "code",
   "execution_count": 57,
   "metadata": {},
   "outputs": [],
   "source": [
    "import librosa\n",
    "import soundfile\n",
    "import os, glob, pickle\n",
    "import numpy as np\n",
    "from sklearn.model_selection import train_test_split\n",
    "from sklearn.neural_network import MLPClassifier\n",
    "from sklearn.metrics import accuracy_score"
   ]
  },
  {
   "cell_type": "markdown",
   "metadata": {},
   "source": [
    "<h1>\n",
    "    <font size = 5>\n",
    "    Define a function which extracts the mfcc, chroma, and mel features from a sound file. 4 parameters are taken- the file name and three Boolean parameters for the three features.\n",
    "    </font>\n",
    "        </h1>        \n",
    "<body>    \n",
    "mfcc: Mel Frequency Cepstral Coefficient, represents the short-term power spectrum of a sound\n",
    "\n",
    "chroma: Pertains to the 12 different pitch classes\n",
    "\n",
    "mel: Mel Spectrogram Frequency\n",
    "</body>"
   ]
  },
  {
   "cell_type": "code",
   "execution_count": 58,
   "metadata": {},
   "outputs": [],
   "source": [
    "def feature_extract(file_name, mfcc, chroma, mel):\n",
    "    with soundfile.SoundFile(file_name) as sound_file:\n",
    "        X = sound_file.read(dtype=\"float32\")\n",
    "        sample_rate=sound_file.samplerate\n",
    "        if chroma:\n",
    "            stft=np.abs(librosa.stft(X))\n",
    "        result=np.array([])\n",
    "        if mfcc:\n",
    "            mfccs=np.mean(librosa.feature.mfcc(y=X, sr=sample_rate, n_mfcc=40).T, axis=0)\n",
    "            result=np.hstack((result, mfccs))\n",
    "        if chroma:\n",
    "            chroma=np.mean(librosa.feature.chroma_stft(S=stft, sr=sample_rate).T,axis=0)\n",
    "            result=np.hstack((result, chroma))\n",
    "        if mel:\n",
    "            mel=np.mean(librosa.feature.melspectrogram(X, sr=sample_rate).T,axis=0)\n",
    "            result=np.hstack((result, mel))\n",
    "    return result"
   ]
  },
  {
   "cell_type": "markdown",
   "metadata": {},
   "source": [
    "<font size = +3>\n",
    "    let's define a dictionary holding our data set"
   ]
  },
  {
   "cell_type": "code",
   "execution_count": 59,
   "metadata": {},
   "outputs": [],
   "source": [
    "# Emotions in the dataset\n",
    "emotions={\n",
    "  '01':'neutral',\n",
    "  '02':'calm',\n",
    "  '03':'happy',\n",
    "  '04':'sad',\n",
    "  '05':'angry',\n",
    "  '06':'fearful',\n",
    "  '07':'disgust',\n",
    "  '08':'surprised'\n",
    "}\n",
    "#Emotions to observe\n",
    "\n",
    "observed_emotions=['calm', 'happy', 'fearful', 'disgust']"
   ]
  },
  {
   "cell_type": "markdown",
   "metadata": {},
   "source": [
    "<font size = 4>Now, let’s load the data with a function load_data() – this takes in the relative size of the test set as parameter. x and y are empty lists; we’ll use the glob() function from the glob module to get all the pathnames for the sound files in our dataset. The pattern we use for this is: “C:\\Users\\Saumitra23\\Documents\\python\\py data science\\machine learning\\speech emotion recogniton\\Actor_*\\\\*.wav”. This is because our dataset looks like this:\n",
    "\n",
    "Using our emotions dictionary, this number is turned into an emotion, and our function checks whether this emotion is in our list of observed_emotions; if not, it continues to the next file. It makes a call to feature_extract and stores what is returned in ‘feature’. Then, it appends the feature to x and the emotion to y. So, the list x holds the features and y holds the emotions. We call the function train_test_split with these, the test size, and a random state value, and return that.\n",
    "</font>\n"
   ]
  },
  {
   "cell_type": "code",
   "execution_count": 60,
   "metadata": {},
   "outputs": [],
   "source": [
    "#Load the data and extract features for each sound file\n",
    "\n",
    "def load_data(test_size=0.2):\n",
    "    #count=0\n",
    "    x,y=[],[]\n",
    "    for file in glob.glob(\"C:\\\\Users\\\\Saumitra23\\\\Documents\\\\python\\\\py data science\\\\machine learning\\\\speech emotion recogniton\\\\Actor_*\\\\*.wav\"):\n",
    "        file_name = os.path.basename(file)\n",
    "        emotion = emotions[file_name.split(\"-\")[2]]\n",
    "        if emotion not in observed_emotions:\n",
    "            continue\n",
    "        feature = feature_extract(file, mfcc=True, chroma=True, mel=True)\n",
    "        x.append(feature)\n",
    "        y.append(emotion)\n",
    "        #count+=1\n",
    "    #print(count)    \n",
    "    return train_test_split(np.array(x), y, test_size=test_size, random_state=9)"
   ]
  },
  {
   "cell_type": "code",
   "execution_count": 61,
   "metadata": {},
   "outputs": [],
   "source": [
    "X_train, X_test, Y_train, Y_test = load_data(test_size = 0.25)"
   ]
  },
  {
   "cell_type": "code",
   "execution_count": 62,
   "metadata": {},
   "outputs": [
    {
     "data": {
      "text/plain": [
       "((468, 180), (156, 180))"
      ]
     },
     "execution_count": 62,
     "metadata": {},
     "output_type": "execute_result"
    }
   ],
   "source": [
    "X_train.shape, X_test.shape"
   ]
  },
  {
   "cell_type": "markdown",
   "metadata": {},
   "source": [
    "<h1>\n",
    "    No of features extracted"
   ]
  },
  {
   "cell_type": "code",
   "execution_count": 63,
   "metadata": {},
   "outputs": [
    {
     "name": "stdout",
     "output_type": "stream",
     "text": [
      "no of features extracted are: 180\n"
     ]
    }
   ],
   "source": [
    "print('no of features extracted are:',X_train.shape[1])"
   ]
  },
  {
   "cell_type": "markdown",
   "metadata": {},
   "source": [
    "<h1>\n",
    "     Now, let’s initialize an MLPClassifier. This is a Multi-layer Perceptron Classifier; it optimizes the log-loss function using LBFGS or stochastic gradient descent. Unlike SVM or Naive Bayes, the MLPClassifier has an internal neural network for the purpose of classification. This is a feedforward ANN model\n",
    "    "
   ]
  },
  {
   "cell_type": "code",
   "execution_count": 64,
   "metadata": {},
   "outputs": [],
   "source": [
    "model=MLPClassifier(alpha=0.01, batch_size=256, epsilon=1e-08,\n",
    "                    hidden_layer_sizes=(300,), learning_rate='adaptive', max_iter=500)"
   ]
  },
  {
   "cell_type": "markdown",
   "metadata": {},
   "source": [
    "<font size = +2>\n",
    "    Train the model"
   ]
  },
  {
   "cell_type": "code",
   "execution_count": 65,
   "metadata": {},
   "outputs": [
    {
     "name": "stderr",
     "output_type": "stream",
     "text": [
      "C:\\Users\\Saumitra23\\Anaconda3\\lib\\site-packages\\sklearn\\neural_network\\multilayer_perceptron.py:566: ConvergenceWarning: Stochastic Optimizer: Maximum iterations (500) reached and the optimization hasn't converged yet.\n",
      "  % self.max_iter, ConvergenceWarning)\n"
     ]
    },
    {
     "data": {
      "text/plain": [
       "MLPClassifier(activation='relu', alpha=0.01, batch_size=256, beta_1=0.9,\n",
       "              beta_2=0.999, early_stopping=False, epsilon=1e-08,\n",
       "              hidden_layer_sizes=(300,), learning_rate='adaptive',\n",
       "              learning_rate_init=0.001, max_iter=500, momentum=0.9,\n",
       "              n_iter_no_change=10, nesterovs_momentum=True, power_t=0.5,\n",
       "              random_state=None, shuffle=True, solver='adam', tol=0.0001,\n",
       "              validation_fraction=0.1, verbose=False, warm_start=False)"
      ]
     },
     "execution_count": 65,
     "metadata": {},
     "output_type": "execute_result"
    }
   ],
   "source": [
    "model.fit(X_train, Y_train)"
   ]
  },
  {
   "cell_type": "markdown",
   "metadata": {},
   "source": [
    "<h1>\n",
    "prediction"
   ]
  },
  {
   "cell_type": "code",
   "execution_count": 66,
   "metadata": {},
   "outputs": [
    {
     "data": {
      "text/plain": [
       "array(['calm', 'happy', 'happy', 'calm', 'disgust', 'disgust', 'happy',\n",
       "       'calm', 'calm', 'happy', 'fearful', 'disgust', 'calm', 'fearful',\n",
       "       'happy', 'calm', 'fearful', 'calm', 'disgust', 'happy', 'calm',\n",
       "       'calm', 'fearful', 'fearful', 'disgust', 'disgust', 'fearful',\n",
       "       'calm', 'fearful', 'fearful', 'happy', 'happy', 'calm', 'fearful',\n",
       "       'happy', 'disgust', 'fearful', 'calm', 'calm', 'calm', 'fearful',\n",
       "       'fearful', 'happy', 'disgust', 'calm', 'happy', 'calm', 'calm',\n",
       "       'disgust', 'fearful', 'calm', 'disgust', 'calm', 'fearful',\n",
       "       'disgust', 'fearful', 'happy', 'happy', 'disgust', 'calm', 'calm',\n",
       "       'fearful', 'fearful', 'happy', 'calm', 'calm', 'calm', 'disgust',\n",
       "       'disgust', 'happy', 'happy', 'fearful', 'fearful', 'fearful',\n",
       "       'disgust', 'fearful', 'calm', 'happy', 'disgust', 'disgust',\n",
       "       'fearful', 'disgust', 'calm', 'calm', 'happy', 'fearful', 'calm',\n",
       "       'calm', 'disgust', 'fearful', 'calm', 'fearful', 'calm', 'disgust',\n",
       "       'calm', 'happy', 'disgust', 'disgust', 'calm', 'fearful',\n",
       "       'disgust', 'happy', 'disgust', 'calm', 'disgust', 'fearful',\n",
       "       'happy', 'happy', 'fearful', 'happy', 'happy', 'happy', 'disgust',\n",
       "       'happy', 'fearful', 'calm', 'fearful', 'calm', 'happy', 'calm',\n",
       "       'happy', 'happy', 'disgust', 'fearful', 'fearful', 'calm', 'calm',\n",
       "       'disgust', 'calm', 'happy', 'happy', 'fearful', 'fearful', 'happy',\n",
       "       'fearful', 'calm', 'happy', 'disgust', 'disgust', 'happy',\n",
       "       'fearful', 'disgust', 'happy', 'disgust', 'fearful', 'fearful',\n",
       "       'calm', 'disgust', 'happy', 'disgust', 'fearful', 'happy', 'happy',\n",
       "       'disgust', 'happy', 'happy'], dtype='<U7')"
      ]
     },
     "execution_count": 66,
     "metadata": {},
     "output_type": "execute_result"
    }
   ],
   "source": [
    "y_pred = model.predict(X_test)\n",
    "y_pred"
   ]
  },
  {
   "cell_type": "markdown",
   "metadata": {},
   "source": [
    "<h1>\n",
    "    accuracy of our model"
   ]
  },
  {
   "cell_type": "code",
   "execution_count": 67,
   "metadata": {},
   "outputs": [
    {
     "name": "stdout",
     "output_type": "stream",
     "text": [
      "accuracy percent of our model is 77.56410256410257 %\n"
     ]
    }
   ],
   "source": [
    "print('accuracy percent of our model is',accuracy_score(y_pred, Y_test)*100,'%')"
   ]
  },
  {
   "cell_type": "code",
   "execution_count": null,
   "metadata": {},
   "outputs": [],
   "source": []
  }
 ],
 "metadata": {
  "kernelspec": {
   "display_name": "Python 3",
   "language": "python",
   "name": "python3"
  },
  "language_info": {
   "codemirror_mode": {
    "name": "ipython",
    "version": 3
   },
   "file_extension": ".py",
   "mimetype": "text/x-python",
   "name": "python",
   "nbconvert_exporter": "python",
   "pygments_lexer": "ipython3",
   "version": "3.7.4"
  }
 },
 "nbformat": 4,
 "nbformat_minor": 2
}
